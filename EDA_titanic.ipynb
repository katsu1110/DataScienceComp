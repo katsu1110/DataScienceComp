{
 "cells": [
  {
   "cell_type": "markdown",
   "metadata": {},
   "source": [
    "# For classification...\n",
    "using titanic dataset"
   ]
  },
  {
   "cell_type": "markdown",
   "metadata": {},
   "source": [
    "# Libraries"
   ]
  },
  {
   "cell_type": "code",
   "execution_count": 1,
   "metadata": {
    "code_folding": []
   },
   "outputs": [
    {
     "name": "stdout",
     "output_type": "stream",
     "text": [
      "libraries imported\n"
     ]
    },
    {
     "name": "stderr",
     "output_type": "stream",
     "text": [
      "/opt/anaconda3/lib/python3.7/site-packages/lightgbm/__init__.py:48: UserWarning:\n",
      "\n",
      "Starting from version 2.2.1, the library file in distribution wheels for macOS is built by the Apple Clang (Xcode_8.3.3) compiler.\n",
      "This means that in case of installing LightGBM from PyPI via the ``pip install lightgbm`` command, you don't need to install the gcc compiler anymore.\n",
      "Instead of that, you need to install the OpenMP library, which is required for running LightGBM on the system with the Apple Clang compiler.\n",
      "You can install the OpenMP library by the following command: ``brew install libomp``.\n",
      "\n"
     ]
    }
   ],
   "source": [
    "# basics\n",
    "import numpy as np # linear algebra\n",
    "import pandas as pd # data processing, CSV file I/O (e.g. pd.read_csv)\n",
    "import gc\n",
    "import json\n",
    "import time\n",
    "import datetime\n",
    "import os\n",
    "import sys\n",
    "import pickle\n",
    "from sklearn.model_selection import train_test_split, StratifiedKFold\n",
    "\n",
    "# visualize\n",
    "import matplotlib.pyplot as plt\n",
    "import matplotlib.style as style\n",
    "from matplotlib_venn import venn2\n",
    "import seaborn as sns\n",
    "from matplotlib import pyplot\n",
    "from matplotlib.ticker import ScalarFormatter\n",
    "import plotly.figure_factory as ff\n",
    "import plotly.express as px\n",
    "import missingno as msno\n",
    "\n",
    "sns.set_context(\"talk\")\n",
    "# sns.set_style(\"ticks\", {\"xtick.major.size\": 8, \"ytick.major.size\": 8})\n",
    "style.use('fivethirtyeight')\n",
    "\n",
    "# custom EDA functions\n",
    "mypath = os.getcwd()\n",
    "sys.path.append(mypath + '/code/') \n",
    "from utils import reduce_mem_usage\n",
    "from categorical_encoder import label_encoding\n",
    "from feature_converter import categorize_features\n",
    "from catplot import CategoricalVisualizer\n",
    "from denseplot import DenseVisualizer\n",
    "\n",
    "# custom modeling functions\n",
    "sys.path.append(mypath + '/cls_models/') \n",
    "from base_classifier import ClassifierBase\n",
    "from lgb_classifier import LgbClassifier\n",
    "from catb_classifier import CatbClassifier\n",
    "\n",
    "# stats\n",
    "from scipy import stats\n",
    "from sklearn.metrics import cohen_kappa_score, mean_squared_error, mean_absolute_error\n",
    "from sklearn.model_selection import KFold, StratifiedKFold, GroupKFold\n",
    "from sklearn.model_selection import train_test_split\n",
    "import scipy as sp\n",
    "from functools import partial\n",
    "from collections import Counter\n",
    "\n",
    "pd.set_option('display.max_rows', None)\n",
    "\n",
    "import warnings\n",
    "warnings.filterwarnings('ignore')\n",
    "\n",
    "print(\"libraries imported\")"
   ]
  },
  {
   "cell_type": "markdown",
   "metadata": {},
   "source": [
    "# Load data"
   ]
  },
  {
   "cell_type": "code",
   "execution_count": 2,
   "metadata": {},
   "outputs": [
    {
     "name": "stdout",
     "output_type": "stream",
     "text": [
      "EDA.ipynb            EDA_titanic.ipynb    \u001b[34minputs\u001b[m\u001b[m\r\n",
      "EDA_houseprice.ipynb \u001b[34mcls_models\u001b[m\u001b[m           \u001b[34mreg_models\u001b[m\u001b[m\r\n",
      "EDA_laputa.ipynb     \u001b[34mcode\u001b[m\u001b[m\r\n"
     ]
    }
   ],
   "source": [
    "!ls"
   ]
  },
  {
   "cell_type": "code",
   "execution_count": 3,
   "metadata": {},
   "outputs": [
    {
     "name": "stdout",
     "output_type": "stream",
     "text": [
      "['.DS_Store', 'atma2020', 'house-prices-advanced-regression-techniques', 'titanic']\n"
     ]
    }
   ],
   "source": [
    "# check path\n",
    "datapath = \"inputs/\"\n",
    "files = os.listdir(datapath)\n",
    "print(files)"
   ]
  },
  {
   "cell_type": "code",
   "execution_count": 4,
   "metadata": {},
   "outputs": [
    {
     "data": {
      "text/plain": [
       "['test.csv', 'train.csv', 'gender_submission.csv']"
      ]
     },
     "execution_count": 4,
     "metadata": {},
     "output_type": "execute_result"
    }
   ],
   "source": [
    "datapath = datapath + 'titanic'\n",
    "os.listdir(datapath)"
   ]
  },
  {
   "cell_type": "code",
   "execution_count": 5,
   "metadata": {},
   "outputs": [
    {
     "name": "stdout",
     "output_type": "stream",
     "text": [
      "0.011718034744262695  seconds to load data\n"
     ]
    }
   ],
   "source": [
    "# import data\n",
    "time0 = time.time()\n",
    "\n",
    "train = pd.read_csv(datapath + '/train.csv')\n",
    "test = pd.read_csv(datapath + '/test.csv')\n",
    "submission = pd.read_csv(datapath + '/gender_submission.csv')\n",
    "\n",
    "time1 = time.time()\n",
    "print(time1 - time0, \" seconds to load data\")"
   ]
  },
  {
   "cell_type": "code",
   "execution_count": 6,
   "metadata": {},
   "outputs": [
    {
     "name": "stdout",
     "output_type": "stream",
     "text": [
      "(891, 12)\n"
     ]
    },
    {
     "data": {
      "text/html": [
       "<div>\n",
       "<style scoped>\n",
       "    .dataframe tbody tr th:only-of-type {\n",
       "        vertical-align: middle;\n",
       "    }\n",
       "\n",
       "    .dataframe tbody tr th {\n",
       "        vertical-align: top;\n",
       "    }\n",
       "\n",
       "    .dataframe thead th {\n",
       "        text-align: right;\n",
       "    }\n",
       "</style>\n",
       "<table border=\"1\" class=\"dataframe\">\n",
       "  <thead>\n",
       "    <tr style=\"text-align: right;\">\n",
       "      <th></th>\n",
       "      <th>PassengerId</th>\n",
       "      <th>Survived</th>\n",
       "      <th>Pclass</th>\n",
       "      <th>Name</th>\n",
       "      <th>Sex</th>\n",
       "      <th>Age</th>\n",
       "      <th>SibSp</th>\n",
       "      <th>Parch</th>\n",
       "      <th>Ticket</th>\n",
       "      <th>Fare</th>\n",
       "      <th>Cabin</th>\n",
       "      <th>Embarked</th>\n",
       "    </tr>\n",
       "  </thead>\n",
       "  <tbody>\n",
       "    <tr>\n",
       "      <td>0</td>\n",
       "      <td>1</td>\n",
       "      <td>0</td>\n",
       "      <td>3</td>\n",
       "      <td>Braund, Mr. Owen Harris</td>\n",
       "      <td>male</td>\n",
       "      <td>22.0</td>\n",
       "      <td>1</td>\n",
       "      <td>0</td>\n",
       "      <td>A/5 21171</td>\n",
       "      <td>7.2500</td>\n",
       "      <td>NaN</td>\n",
       "      <td>S</td>\n",
       "    </tr>\n",
       "    <tr>\n",
       "      <td>1</td>\n",
       "      <td>2</td>\n",
       "      <td>1</td>\n",
       "      <td>1</td>\n",
       "      <td>Cumings, Mrs. John Bradley (Florence Briggs Th...</td>\n",
       "      <td>female</td>\n",
       "      <td>38.0</td>\n",
       "      <td>1</td>\n",
       "      <td>0</td>\n",
       "      <td>PC 17599</td>\n",
       "      <td>71.2833</td>\n",
       "      <td>C85</td>\n",
       "      <td>C</td>\n",
       "    </tr>\n",
       "    <tr>\n",
       "      <td>2</td>\n",
       "      <td>3</td>\n",
       "      <td>1</td>\n",
       "      <td>3</td>\n",
       "      <td>Heikkinen, Miss. Laina</td>\n",
       "      <td>female</td>\n",
       "      <td>26.0</td>\n",
       "      <td>0</td>\n",
       "      <td>0</td>\n",
       "      <td>STON/O2. 3101282</td>\n",
       "      <td>7.9250</td>\n",
       "      <td>NaN</td>\n",
       "      <td>S</td>\n",
       "    </tr>\n",
       "    <tr>\n",
       "      <td>3</td>\n",
       "      <td>4</td>\n",
       "      <td>1</td>\n",
       "      <td>1</td>\n",
       "      <td>Futrelle, Mrs. Jacques Heath (Lily May Peel)</td>\n",
       "      <td>female</td>\n",
       "      <td>35.0</td>\n",
       "      <td>1</td>\n",
       "      <td>0</td>\n",
       "      <td>113803</td>\n",
       "      <td>53.1000</td>\n",
       "      <td>C123</td>\n",
       "      <td>S</td>\n",
       "    </tr>\n",
       "    <tr>\n",
       "      <td>4</td>\n",
       "      <td>5</td>\n",
       "      <td>0</td>\n",
       "      <td>3</td>\n",
       "      <td>Allen, Mr. William Henry</td>\n",
       "      <td>male</td>\n",
       "      <td>35.0</td>\n",
       "      <td>0</td>\n",
       "      <td>0</td>\n",
       "      <td>373450</td>\n",
       "      <td>8.0500</td>\n",
       "      <td>NaN</td>\n",
       "      <td>S</td>\n",
       "    </tr>\n",
       "  </tbody>\n",
       "</table>\n",
       "</div>"
      ],
      "text/plain": [
       "   PassengerId  Survived  Pclass  \\\n",
       "0            1         0       3   \n",
       "1            2         1       1   \n",
       "2            3         1       3   \n",
       "3            4         1       1   \n",
       "4            5         0       3   \n",
       "\n",
       "                                                Name     Sex   Age  SibSp  \\\n",
       "0                            Braund, Mr. Owen Harris    male  22.0      1   \n",
       "1  Cumings, Mrs. John Bradley (Florence Briggs Th...  female  38.0      1   \n",
       "2                             Heikkinen, Miss. Laina  female  26.0      0   \n",
       "3       Futrelle, Mrs. Jacques Heath (Lily May Peel)  female  35.0      1   \n",
       "4                           Allen, Mr. William Henry    male  35.0      0   \n",
       "\n",
       "   Parch            Ticket     Fare Cabin Embarked  \n",
       "0      0         A/5 21171   7.2500   NaN        S  \n",
       "1      0          PC 17599  71.2833   C85        C  \n",
       "2      0  STON/O2. 3101282   7.9250   NaN        S  \n",
       "3      0            113803  53.1000  C123        S  \n",
       "4      0            373450   8.0500   NaN        S  "
      ]
     },
     "execution_count": 6,
     "metadata": {},
     "output_type": "execute_result"
    }
   ],
   "source": [
    "# check train\n",
    "print(train.shape)\n",
    "train.head()"
   ]
  },
  {
   "cell_type": "code",
   "execution_count": 7,
   "metadata": {},
   "outputs": [
    {
     "name": "stdout",
     "output_type": "stream",
     "text": [
      "(418, 11)\n"
     ]
    },
    {
     "data": {
      "text/html": [
       "<div>\n",
       "<style scoped>\n",
       "    .dataframe tbody tr th:only-of-type {\n",
       "        vertical-align: middle;\n",
       "    }\n",
       "\n",
       "    .dataframe tbody tr th {\n",
       "        vertical-align: top;\n",
       "    }\n",
       "\n",
       "    .dataframe thead th {\n",
       "        text-align: right;\n",
       "    }\n",
       "</style>\n",
       "<table border=\"1\" class=\"dataframe\">\n",
       "  <thead>\n",
       "    <tr style=\"text-align: right;\">\n",
       "      <th></th>\n",
       "      <th>PassengerId</th>\n",
       "      <th>Pclass</th>\n",
       "      <th>Name</th>\n",
       "      <th>Sex</th>\n",
       "      <th>Age</th>\n",
       "      <th>SibSp</th>\n",
       "      <th>Parch</th>\n",
       "      <th>Ticket</th>\n",
       "      <th>Fare</th>\n",
       "      <th>Cabin</th>\n",
       "      <th>Embarked</th>\n",
       "    </tr>\n",
       "  </thead>\n",
       "  <tbody>\n",
       "    <tr>\n",
       "      <td>0</td>\n",
       "      <td>892</td>\n",
       "      <td>3</td>\n",
       "      <td>Kelly, Mr. James</td>\n",
       "      <td>male</td>\n",
       "      <td>34.5</td>\n",
       "      <td>0</td>\n",
       "      <td>0</td>\n",
       "      <td>330911</td>\n",
       "      <td>7.8292</td>\n",
       "      <td>NaN</td>\n",
       "      <td>Q</td>\n",
       "    </tr>\n",
       "    <tr>\n",
       "      <td>1</td>\n",
       "      <td>893</td>\n",
       "      <td>3</td>\n",
       "      <td>Wilkes, Mrs. James (Ellen Needs)</td>\n",
       "      <td>female</td>\n",
       "      <td>47.0</td>\n",
       "      <td>1</td>\n",
       "      <td>0</td>\n",
       "      <td>363272</td>\n",
       "      <td>7.0000</td>\n",
       "      <td>NaN</td>\n",
       "      <td>S</td>\n",
       "    </tr>\n",
       "    <tr>\n",
       "      <td>2</td>\n",
       "      <td>894</td>\n",
       "      <td>2</td>\n",
       "      <td>Myles, Mr. Thomas Francis</td>\n",
       "      <td>male</td>\n",
       "      <td>62.0</td>\n",
       "      <td>0</td>\n",
       "      <td>0</td>\n",
       "      <td>240276</td>\n",
       "      <td>9.6875</td>\n",
       "      <td>NaN</td>\n",
       "      <td>Q</td>\n",
       "    </tr>\n",
       "    <tr>\n",
       "      <td>3</td>\n",
       "      <td>895</td>\n",
       "      <td>3</td>\n",
       "      <td>Wirz, Mr. Albert</td>\n",
       "      <td>male</td>\n",
       "      <td>27.0</td>\n",
       "      <td>0</td>\n",
       "      <td>0</td>\n",
       "      <td>315154</td>\n",
       "      <td>8.6625</td>\n",
       "      <td>NaN</td>\n",
       "      <td>S</td>\n",
       "    </tr>\n",
       "    <tr>\n",
       "      <td>4</td>\n",
       "      <td>896</td>\n",
       "      <td>3</td>\n",
       "      <td>Hirvonen, Mrs. Alexander (Helga E Lindqvist)</td>\n",
       "      <td>female</td>\n",
       "      <td>22.0</td>\n",
       "      <td>1</td>\n",
       "      <td>1</td>\n",
       "      <td>3101298</td>\n",
       "      <td>12.2875</td>\n",
       "      <td>NaN</td>\n",
       "      <td>S</td>\n",
       "    </tr>\n",
       "  </tbody>\n",
       "</table>\n",
       "</div>"
      ],
      "text/plain": [
       "   PassengerId  Pclass                                          Name     Sex  \\\n",
       "0          892       3                              Kelly, Mr. James    male   \n",
       "1          893       3              Wilkes, Mrs. James (Ellen Needs)  female   \n",
       "2          894       2                     Myles, Mr. Thomas Francis    male   \n",
       "3          895       3                              Wirz, Mr. Albert    male   \n",
       "4          896       3  Hirvonen, Mrs. Alexander (Helga E Lindqvist)  female   \n",
       "\n",
       "    Age  SibSp  Parch   Ticket     Fare Cabin Embarked  \n",
       "0  34.5      0      0   330911   7.8292   NaN        Q  \n",
       "1  47.0      1      0   363272   7.0000   NaN        S  \n",
       "2  62.0      0      0   240276   9.6875   NaN        Q  \n",
       "3  27.0      0      0   315154   8.6625   NaN        S  \n",
       "4  22.0      1      1  3101298  12.2875   NaN        S  "
      ]
     },
     "execution_count": 7,
     "metadata": {},
     "output_type": "execute_result"
    }
   ],
   "source": [
    "# check test\n",
    "print(test.shape)\n",
    "test.head()"
   ]
  },
  {
   "cell_type": "code",
   "execution_count": 8,
   "metadata": {},
   "outputs": [
    {
     "name": "stdout",
     "output_type": "stream",
     "text": [
      "(418, 2)\n"
     ]
    },
    {
     "data": {
      "text/html": [
       "<div>\n",
       "<style scoped>\n",
       "    .dataframe tbody tr th:only-of-type {\n",
       "        vertical-align: middle;\n",
       "    }\n",
       "\n",
       "    .dataframe tbody tr th {\n",
       "        vertical-align: top;\n",
       "    }\n",
       "\n",
       "    .dataframe thead th {\n",
       "        text-align: right;\n",
       "    }\n",
       "</style>\n",
       "<table border=\"1\" class=\"dataframe\">\n",
       "  <thead>\n",
       "    <tr style=\"text-align: right;\">\n",
       "      <th></th>\n",
       "      <th>PassengerId</th>\n",
       "      <th>Survived</th>\n",
       "    </tr>\n",
       "  </thead>\n",
       "  <tbody>\n",
       "    <tr>\n",
       "      <td>0</td>\n",
       "      <td>892</td>\n",
       "      <td>0</td>\n",
       "    </tr>\n",
       "    <tr>\n",
       "      <td>1</td>\n",
       "      <td>893</td>\n",
       "      <td>1</td>\n",
       "    </tr>\n",
       "    <tr>\n",
       "      <td>2</td>\n",
       "      <td>894</td>\n",
       "      <td>0</td>\n",
       "    </tr>\n",
       "    <tr>\n",
       "      <td>3</td>\n",
       "      <td>895</td>\n",
       "      <td>0</td>\n",
       "    </tr>\n",
       "    <tr>\n",
       "      <td>4</td>\n",
       "      <td>896</td>\n",
       "      <td>1</td>\n",
       "    </tr>\n",
       "  </tbody>\n",
       "</table>\n",
       "</div>"
      ],
      "text/plain": [
       "   PassengerId  Survived\n",
       "0          892         0\n",
       "1          893         1\n",
       "2          894         0\n",
       "3          895         0\n",
       "4          896         1"
      ]
     },
     "execution_count": 8,
     "metadata": {},
     "output_type": "execute_result"
    }
   ],
   "source": [
    "# check submission file\n",
    "print(submission.shape)\n",
    "submission.head()"
   ]
  },
  {
   "cell_type": "markdown",
   "metadata": {},
   "source": [
    "# EDA"
   ]
  },
  {
   "cell_type": "code",
   "execution_count": 9,
   "metadata": {},
   "outputs": [
    {
     "name": "stdout",
     "output_type": "stream",
     "text": [
      "<class 'pandas.core.frame.DataFrame'>\n",
      "RangeIndex: 891 entries, 0 to 890\n",
      "Data columns (total 12 columns):\n",
      "PassengerId    891 non-null int64\n",
      "Survived       891 non-null int64\n",
      "Pclass         891 non-null int64\n",
      "Name           891 non-null object\n",
      "Sex            891 non-null object\n",
      "Age            714 non-null float64\n",
      "SibSp          891 non-null int64\n",
      "Parch          891 non-null int64\n",
      "Ticket         891 non-null object\n",
      "Fare           891 non-null float64\n",
      "Cabin          204 non-null object\n",
      "Embarked       889 non-null object\n",
      "dtypes: float64(2), int64(5), object(5)\n",
      "memory usage: 83.7+ KB\n"
     ]
    }
   ],
   "source": [
    "train.info()"
   ]
  },
  {
   "cell_type": "code",
   "execution_count": 10,
   "metadata": {},
   "outputs": [
    {
     "data": {
      "text/plain": [
       "PassengerId      int64\n",
       "Survived         int64\n",
       "Pclass           int64\n",
       "Name            object\n",
       "Sex             object\n",
       "Age            float64\n",
       "SibSp            int64\n",
       "Parch            int64\n",
       "Ticket          object\n",
       "Fare           float64\n",
       "Cabin           object\n",
       "Embarked        object\n",
       "dtype: object"
      ]
     },
     "execution_count": 10,
     "metadata": {},
     "output_type": "execute_result"
    }
   ],
   "source": [
    "train.dtypes"
   ]
  },
  {
   "cell_type": "code",
   "execution_count": 11,
   "metadata": {},
   "outputs": [
    {
     "data": {
      "text/plain": [
       "<matplotlib.axes._subplots.AxesSubplot at 0x1c2a8b12d0>"
      ]
     },
     "execution_count": 11,
     "metadata": {},
     "output_type": "execute_result"
    },
    {
     "data": {
      "image/png": "[encoded data removed]",
      "text/plain": [
       "<Figure size 1440x1008 with 2 Axes>"
      ]
     },
     "metadata": {
      "needs_background": "light"
     },
     "output_type": "display_data"
    }
   ],
   "source": [
    "# missing data?\n",
    "import missingno as msno\n",
    "msno.matrix(df=train, figsize=(20,14), color=(0.5,0,0))"
   ]
  },
  {
   "cell_type": "markdown",
   "metadata": {},
   "source": [
    "# Target"
   ]
  },
  {
   "cell_type": "code",
   "execution_count": 12,
   "metadata": {},
   "outputs": [
    {
     "data": {
      "text/plain": [
       "Text(0, 0.5, '#')"
      ]
     },
     "execution_count": 12,
     "metadata": {},
     "output_type": "execute_result"
    },
    {
     "data": {
      "image/png": "[encoded data removed]",
      "text/plain": [
       "<Figure size 432x288 with 1 Axes>"
      ]
     },
     "metadata": {
      "needs_background": "light"
     },
     "output_type": "display_data"
    }
   ],
   "source": [
    "# hist\n",
    "target = \"Survived\"\n",
    "fig, ax = plt.subplots(1, 1, figsize=(6, 4))\n",
    "sns.countplot(x=target, data=train, ax=ax)\n",
    "ax.xaxis.set_major_formatter(ScalarFormatter(useMathText=True))\n",
    "ax.ticklabel_format(style=\"sci\",  axis=\"x\",scilimits=(0,0))\n",
    "ax.yaxis.set_major_formatter(ScalarFormatter(useMathText=True))\n",
    "ax.ticklabel_format(style=\"sci\",  axis=\"y\",scilimits=(0,0))\n",
    "ax.set_title(\"nnans = {}, {}%\".format(train[target].isna().sum(), 100 * train[target].isna().sum() / train.shape[0]))\n",
    "ax.set_xlabel(target)\n",
    "ax.set_ylabel(\"#\")"
   ]
  },
  {
   "cell_type": "code",
   "execution_count": 13,
   "metadata": {},
   "outputs": [
    {
     "name": "stdout",
     "output_type": "stream",
     "text": [
      "There are 11 features.\n",
      "There are 3 dense features.\n",
      "There are 8 categorical features.\n"
     ]
    }
   ],
   "source": [
    "# roughly categorize features\n",
    "features, dense_features, cat_features = categorize_features(train, target, cat_threshold=12)"
   ]
  },
  {
   "cell_type": "markdown",
   "metadata": {},
   "source": [
    "# Dense features"
   ]
  },
  {
   "cell_type": "code",
   "execution_count": 14,
   "metadata": {},
   "outputs": [
    {
     "name": "stdout",
     "output_type": "stream",
     "text": [
      "feature name = PassengerId\n",
      "feature name = Age\n",
      "feature name = Fare\n"
     ]
    }
   ],
   "source": [
    "vd = DenseVisualizer(train=train, test=test, features=dense_features, target=target)\n",
    "chkd = vd.column_checker()"
   ]
  },
  {
   "cell_type": "code",
   "execution_count": 15,
   "metadata": {},
   "outputs": [
    {
     "data": {
      "text/html": [
       "<style  type=\"text/css\" >\n",
       "    #T_b58f07ee_4c14_11ea_b15e_acde48001122row0_col1 {\n",
       "            background-color:  #fff7fb;\n",
       "            color:  #000000;\n",
       "        }    #T_b58f07ee_4c14_11ea_b15e_acde48001122row0_col2 {\n",
       "            background-color:  #fff7fb;\n",
       "            color:  #000000;\n",
       "        }    #T_b58f07ee_4c14_11ea_b15e_acde48001122row0_col3 {\n",
       "            background-color:  #023858;\n",
       "            color:  #f1f1f1;\n",
       "        }    #T_b58f07ee_4c14_11ea_b15e_acde48001122row0_col4 {\n",
       "            background-color:  #023858;\n",
       "            color:  #f1f1f1;\n",
       "        }    #T_b58f07ee_4c14_11ea_b15e_acde48001122row0_col5 {\n",
       "            background-color:  #023858;\n",
       "            color:  #f1f1f1;\n",
       "        }    #T_b58f07ee_4c14_11ea_b15e_acde48001122row0_col6 {\n",
       "            background-color:  #023858;\n",
       "            color:  #f1f1f1;\n",
       "        }    #T_b58f07ee_4c14_11ea_b15e_acde48001122row0_col7 {\n",
       "            background-color:  #023858;\n",
       "            color:  #f1f1f1;\n",
       "        }    #T_b58f07ee_4c14_11ea_b15e_acde48001122row0_col8 {\n",
       "            background-color:  #023858;\n",
       "            color:  #f1f1f1;\n",
       "        }    #T_b58f07ee_4c14_11ea_b15e_acde48001122row0_col9 {\n",
       "            background-color:  #023858;\n",
       "            color:  #f1f1f1;\n",
       "        }    #T_b58f07ee_4c14_11ea_b15e_acde48001122row0_col10 {\n",
       "            background-color:  #023858;\n",
       "            color:  #f1f1f1;\n",
       "        }    #T_b58f07ee_4c14_11ea_b15e_acde48001122row0_col11 {\n",
       "            background-color:  #fff7fb;\n",
       "            color:  #000000;\n",
       "        }    #T_b58f07ee_4c14_11ea_b15e_acde48001122row0_col12 {\n",
       "            background-color:  #fff7fb;\n",
       "            color:  #000000;\n",
       "        }    #T_b58f07ee_4c14_11ea_b15e_acde48001122row1_col1 {\n",
       "            background-color:  #023858;\n",
       "            color:  #f1f1f1;\n",
       "        }    #T_b58f07ee_4c14_11ea_b15e_acde48001122row1_col2 {\n",
       "            background-color:  #023858;\n",
       "            color:  #f1f1f1;\n",
       "        }    #T_b58f07ee_4c14_11ea_b15e_acde48001122row1_col3 {\n",
       "            background-color:  #fff7fb;\n",
       "            color:  #000000;\n",
       "        }    #T_b58f07ee_4c14_11ea_b15e_acde48001122row1_col4 {\n",
       "            background-color:  #fff7fb;\n",
       "            color:  #000000;\n",
       "        }    #T_b58f07ee_4c14_11ea_b15e_acde48001122row1_col5 {\n",
       "            background-color:  #94b6d7;\n",
       "            color:  #000000;\n",
       "        }    #T_b58f07ee_4c14_11ea_b15e_acde48001122row1_col6 {\n",
       "            background-color:  #fff7fb;\n",
       "            color:  #000000;\n",
       "        }    #T_b58f07ee_4c14_11ea_b15e_acde48001122row1_col7 {\n",
       "            background-color:  #fff7fb;\n",
       "            color:  #000000;\n",
       "        }    #T_b58f07ee_4c14_11ea_b15e_acde48001122row1_col8 {\n",
       "            background-color:  #fff7fb;\n",
       "            color:  #000000;\n",
       "        }    #T_b58f07ee_4c14_11ea_b15e_acde48001122row1_col9 {\n",
       "            background-color:  #fff7fb;\n",
       "            color:  #000000;\n",
       "        }    #T_b58f07ee_4c14_11ea_b15e_acde48001122row1_col10 {\n",
       "            background-color:  #fff7fb;\n",
       "            color:  #000000;\n",
       "        }    #T_b58f07ee_4c14_11ea_b15e_acde48001122row1_col11 {\n",
       "            background-color:  #f3edf5;\n",
       "            color:  #000000;\n",
       "        }    #T_b58f07ee_4c14_11ea_b15e_acde48001122row1_col12 {\n",
       "            background-color:  #ede7f2;\n",
       "            color:  #000000;\n",
       "        }    #T_b58f07ee_4c14_11ea_b15e_acde48001122row2_col1 {\n",
       "            background-color:  #fff7fb;\n",
       "            color:  #000000;\n",
       "        }    #T_b58f07ee_4c14_11ea_b15e_acde48001122row2_col2 {\n",
       "            background-color:  #fef6fa;\n",
       "            color:  #000000;\n",
       "        }    #T_b58f07ee_4c14_11ea_b15e_acde48001122row2_col3 {\n",
       "            background-color:  #dbdaeb;\n",
       "            color:  #000000;\n",
       "        }    #T_b58f07ee_4c14_11ea_b15e_acde48001122row2_col4 {\n",
       "            background-color:  #cccfe5;\n",
       "            color:  #000000;\n",
       "        }    #T_b58f07ee_4c14_11ea_b15e_acde48001122row2_col5 {\n",
       "            background-color:  #fff7fb;\n",
       "            color:  #000000;\n",
       "        }    #T_b58f07ee_4c14_11ea_b15e_acde48001122row2_col6 {\n",
       "            background-color:  #fff7fb;\n",
       "            color:  #000000;\n",
       "        }    #T_b58f07ee_4c14_11ea_b15e_acde48001122row2_col7 {\n",
       "            background-color:  #63a2cb;\n",
       "            color:  #000000;\n",
       "        }    #T_b58f07ee_4c14_11ea_b15e_acde48001122row2_col8 {\n",
       "            background-color:  #adc1dd;\n",
       "            color:  #000000;\n",
       "        }    #T_b58f07ee_4c14_11ea_b15e_acde48001122row2_col9 {\n",
       "            background-color:  #fef6fb;\n",
       "            color:  #000000;\n",
       "        }    #T_b58f07ee_4c14_11ea_b15e_acde48001122row2_col10 {\n",
       "            background-color:  #fef6fb;\n",
       "            color:  #000000;\n",
       "        }    #T_b58f07ee_4c14_11ea_b15e_acde48001122row2_col11 {\n",
       "            background-color:  #023858;\n",
       "            color:  #f1f1f1;\n",
       "        }    #T_b58f07ee_4c14_11ea_b15e_acde48001122row2_col12 {\n",
       "            background-color:  #023858;\n",
       "            color:  #f1f1f1;\n",
       "        }</style><table id=\"T_b58f07ee_4c14_11ea_b15e_acde48001122\" ><thead>    <tr>        <th class=\"blank level0\" ></th>        <th class=\"col_heading level0 col0\" >features</th>        <th class=\"col_heading level0 col1\" >train_nans</th>        <th class=\"col_heading level0 col2\" >test_nans</th>        <th class=\"col_heading level0 col3\" >train_nunique</th>        <th class=\"col_heading level0 col4\" >test_nunique</th>        <th class=\"col_heading level0 col5\" >train_min</th>        <th class=\"col_heading level0 col6\" >test_min</th>        <th class=\"col_heading level0 col7\" >train_max</th>        <th class=\"col_heading level0 col8\" >test_max</th>        <th class=\"col_heading level0 col9\" >train_mean</th>        <th class=\"col_heading level0 col10\" >test_mean</th>        <th class=\"col_heading level0 col11\" >train_skew</th>        <th class=\"col_heading level0 col12\" >test_skew</th>    </tr></thead><tbody>\n",
       "                <tr>\n",
       "                        <th id=\"T_b58f07ee_4c14_11ea_b15e_acde48001122level0_row0\" class=\"row_heading level0 row0\" >0</th>\n",
       "                        <td id=\"T_b58f07ee_4c14_11ea_b15e_acde48001122row0_col0\" class=\"data row0 col0\" >PassengerId</td>\n",
       "                        <td id=\"T_b58f07ee_4c14_11ea_b15e_acde48001122row0_col1\" class=\"data row0 col1\" >0</td>\n",
       "                        <td id=\"T_b58f07ee_4c14_11ea_b15e_acde48001122row0_col2\" class=\"data row0 col2\" >0</td>\n",
       "                        <td id=\"T_b58f07ee_4c14_11ea_b15e_acde48001122row0_col3\" class=\"data row0 col3\" >891</td>\n",
       "                        <td id=\"T_b58f07ee_4c14_11ea_b15e_acde48001122row0_col4\" class=\"data row0 col4\" >418</td>\n",
       "                        <td id=\"T_b58f07ee_4c14_11ea_b15e_acde48001122row0_col5\" class=\"data row0 col5\" >1</td>\n",
       "                        <td id=\"T_b58f07ee_4c14_11ea_b15e_acde48001122row0_col6\" class=\"data row0 col6\" >892</td>\n",
       "                        <td id=\"T_b58f07ee_4c14_11ea_b15e_acde48001122row0_col7\" class=\"data row0 col7\" >891</td>\n",
       "                        <td id=\"T_b58f07ee_4c14_11ea_b15e_acde48001122row0_col8\" class=\"data row0 col8\" >1309</td>\n",
       "                        <td id=\"T_b58f07ee_4c14_11ea_b15e_acde48001122row0_col9\" class=\"data row0 col9\" >446</td>\n",
       "                        <td id=\"T_b58f07ee_4c14_11ea_b15e_acde48001122row0_col10\" class=\"data row0 col10\" >1100.5</td>\n",
       "                        <td id=\"T_b58f07ee_4c14_11ea_b15e_acde48001122row0_col11\" class=\"data row0 col11\" >0</td>\n",
       "                        <td id=\"T_b58f07ee_4c14_11ea_b15e_acde48001122row0_col12\" class=\"data row0 col12\" >0</td>\n",
       "            </tr>\n",
       "            <tr>\n",
       "                        <th id=\"T_b58f07ee_4c14_11ea_b15e_acde48001122level0_row1\" class=\"row_heading level0 row1\" >1</th>\n",
       "                        <td id=\"T_b58f07ee_4c14_11ea_b15e_acde48001122row1_col0\" class=\"data row1 col0\" >Age</td>\n",
       "                        <td id=\"T_b58f07ee_4c14_11ea_b15e_acde48001122row1_col1\" class=\"data row1 col1\" >177</td>\n",
       "                        <td id=\"T_b58f07ee_4c14_11ea_b15e_acde48001122row1_col2\" class=\"data row1 col2\" >86</td>\n",
       "                        <td id=\"T_b58f07ee_4c14_11ea_b15e_acde48001122row1_col3\" class=\"data row1 col3\" >88</td>\n",
       "                        <td id=\"T_b58f07ee_4c14_11ea_b15e_acde48001122row1_col4\" class=\"data row1 col4\" >79</td>\n",
       "                        <td id=\"T_b58f07ee_4c14_11ea_b15e_acde48001122row1_col5\" class=\"data row1 col5\" >0.42</td>\n",
       "                        <td id=\"T_b58f07ee_4c14_11ea_b15e_acde48001122row1_col6\" class=\"data row1 col6\" >0.17</td>\n",
       "                        <td id=\"T_b58f07ee_4c14_11ea_b15e_acde48001122row1_col7\" class=\"data row1 col7\" >80</td>\n",
       "                        <td id=\"T_b58f07ee_4c14_11ea_b15e_acde48001122row1_col8\" class=\"data row1 col8\" >76</td>\n",
       "                        <td id=\"T_b58f07ee_4c14_11ea_b15e_acde48001122row1_col9\" class=\"data row1 col9\" >29.6991</td>\n",
       "                        <td id=\"T_b58f07ee_4c14_11ea_b15e_acde48001122row1_col10\" class=\"data row1 col10\" >30.2726</td>\n",
       "                        <td id=\"T_b58f07ee_4c14_11ea_b15e_acde48001122row1_col11\" class=\"data row1 col11\" >0.389108</td>\n",
       "                        <td id=\"T_b58f07ee_4c14_11ea_b15e_acde48001122row1_col12\" class=\"data row1 col12\" >0.457361</td>\n",
       "            </tr>\n",
       "            <tr>\n",
       "                        <th id=\"T_b58f07ee_4c14_11ea_b15e_acde48001122level0_row2\" class=\"row_heading level0 row2\" >2</th>\n",
       "                        <td id=\"T_b58f07ee_4c14_11ea_b15e_acde48001122row2_col0\" class=\"data row2 col0\" >Fare</td>\n",
       "                        <td id=\"T_b58f07ee_4c14_11ea_b15e_acde48001122row2_col1\" class=\"data row2 col1\" >0</td>\n",
       "                        <td id=\"T_b58f07ee_4c14_11ea_b15e_acde48001122row2_col2\" class=\"data row2 col2\" >1</td>\n",
       "                        <td id=\"T_b58f07ee_4c14_11ea_b15e_acde48001122row2_col3\" class=\"data row2 col3\" >248</td>\n",
       "                        <td id=\"T_b58f07ee_4c14_11ea_b15e_acde48001122row2_col4\" class=\"data row2 col4\" >169</td>\n",
       "                        <td id=\"T_b58f07ee_4c14_11ea_b15e_acde48001122row2_col5\" class=\"data row2 col5\" >0</td>\n",
       "                        <td id=\"T_b58f07ee_4c14_11ea_b15e_acde48001122row2_col6\" class=\"data row2 col6\" >0</td>\n",
       "                        <td id=\"T_b58f07ee_4c14_11ea_b15e_acde48001122row2_col7\" class=\"data row2 col7\" >512.329</td>\n",
       "                        <td id=\"T_b58f07ee_4c14_11ea_b15e_acde48001122row2_col8\" class=\"data row2 col8\" >512.329</td>\n",
       "                        <td id=\"T_b58f07ee_4c14_11ea_b15e_acde48001122row2_col9\" class=\"data row2 col9\" >32.2042</td>\n",
       "                        <td id=\"T_b58f07ee_4c14_11ea_b15e_acde48001122row2_col10\" class=\"data row2 col10\" >35.6272</td>\n",
       "                        <td id=\"T_b58f07ee_4c14_11ea_b15e_acde48001122row2_col11\" class=\"data row2 col11\" >4.78732</td>\n",
       "                        <td id=\"T_b58f07ee_4c14_11ea_b15e_acde48001122row2_col12\" class=\"data row2 col12\" >3.68721</td>\n",
       "            </tr>\n",
       "    </tbody></table>"
      ],
      "text/plain": [
       "<pandas.io.formats.style.Styler at 0x1c2a572ed0>"
      ]
     },
     "execution_count": 15,
     "metadata": {},
     "output_type": "execute_result"
    }
   ],
   "source": [
    "chkd.style.background_gradient()"
   ]
  },
  {
   "cell_type": "code",
   "execution_count": 16,
   "metadata": {},
   "outputs": [
    {
     "data": {
      "image/png": "[encoded data removed]",
      "text/plain": [
       "<Figure size 1296x288 with 3 Axes>"
      ]
     },
     "metadata": {
      "needs_background": "light"
     },
     "output_type": "display_data"
    }
   ],
   "source": [
    "vd.plot_bars()"
   ]
  },
  {
   "cell_type": "code",
   "execution_count": 17,
   "metadata": {},
   "outputs": [
    {
     "data": {
      "image/png": "[encoded data removed]",
      "text/plain": [
       "<Figure size 1296x288 with 3 Axes>"
      ]
     },
     "metadata": {
      "needs_background": "light"
     },
     "output_type": "display_data"
    }
   ],
   "source": [
    "vd.plot_vs_target()"
   ]
  },
  {
   "cell_type": "markdown",
   "metadata": {},
   "source": [
    "# Categorical features"
   ]
  },
  {
   "cell_type": "code",
   "execution_count": 18,
   "metadata": {},
   "outputs": [
    {
     "name": "stdout",
     "output_type": "stream",
     "text": [
      "feature name = Pclass\n",
      "feature name = Name\n",
      "feature name = Sex\n",
      "feature name = SibSp\n",
      "feature name = Parch\n",
      "feature name = Ticket\n",
      "feature name = Cabin\n",
      "feature name = Embarked\n"
     ]
    }
   ],
   "source": [
    "# EDA for categorical features\n",
    "vc = CategoricalVisualizer(train=train, test=test, features=cat_features, target=target)\n",
    "chkc = vc.column_checker()"
   ]
  },
  {
   "cell_type": "code",
   "execution_count": 19,
   "metadata": {},
   "outputs": [
    {
     "data": {
      "text/html": [
       "<style  type=\"text/css\" >\n",
       "    #T_b675d19c_4c14_11ea_b15e_acde48001122row0_col1 {\n",
       "            background-color:  #023858;\n",
       "            color:  #f1f1f1;\n",
       "        }    #T_b675d19c_4c14_11ea_b15e_acde48001122row0_col2 {\n",
       "            background-color:  #fff7fb;\n",
       "            color:  #000000;\n",
       "        }    #T_b675d19c_4c14_11ea_b15e_acde48001122row0_col3 {\n",
       "            background-color:  #fff7fb;\n",
       "            color:  #000000;\n",
       "        }    #T_b675d19c_4c14_11ea_b15e_acde48001122row0_col4 {\n",
       "            background-color:  #fff7fb;\n",
       "            color:  #000000;\n",
       "        }    #T_b675d19c_4c14_11ea_b15e_acde48001122row0_col5 {\n",
       "            background-color:  #fff7fb;\n",
       "            color:  #000000;\n",
       "        }    #T_b675d19c_4c14_11ea_b15e_acde48001122row1_col1 {\n",
       "            background-color:  #fff7fb;\n",
       "            color:  #000000;\n",
       "        }    #T_b675d19c_4c14_11ea_b15e_acde48001122row1_col2 {\n",
       "            background-color:  #fff7fb;\n",
       "            color:  #000000;\n",
       "        }    #T_b675d19c_4c14_11ea_b15e_acde48001122row1_col3 {\n",
       "            background-color:  #fff7fb;\n",
       "            color:  #000000;\n",
       "        }    #T_b675d19c_4c14_11ea_b15e_acde48001122row1_col4 {\n",
       "            background-color:  #023858;\n",
       "            color:  #f1f1f1;\n",
       "        }    #T_b675d19c_4c14_11ea_b15e_acde48001122row1_col5 {\n",
       "            background-color:  #023858;\n",
       "            color:  #f1f1f1;\n",
       "        }    #T_b675d19c_4c14_11ea_b15e_acde48001122row2_col1 {\n",
       "            background-color:  #023858;\n",
       "            color:  #f1f1f1;\n",
       "        }    #T_b675d19c_4c14_11ea_b15e_acde48001122row2_col2 {\n",
       "            background-color:  #fff7fb;\n",
       "            color:  #000000;\n",
       "        }    #T_b675d19c_4c14_11ea_b15e_acde48001122row2_col3 {\n",
       "            background-color:  #fff7fb;\n",
       "            color:  #000000;\n",
       "        }    #T_b675d19c_4c14_11ea_b15e_acde48001122row2_col4 {\n",
       "            background-color:  #fff7fb;\n",
       "            color:  #000000;\n",
       "        }    #T_b675d19c_4c14_11ea_b15e_acde48001122row2_col5 {\n",
       "            background-color:  #fff7fb;\n",
       "            color:  #000000;\n",
       "        }    #T_b675d19c_4c14_11ea_b15e_acde48001122row3_col1 {\n",
       "            background-color:  #023858;\n",
       "            color:  #f1f1f1;\n",
       "        }    #T_b675d19c_4c14_11ea_b15e_acde48001122row3_col2 {\n",
       "            background-color:  #fff7fb;\n",
       "            color:  #000000;\n",
       "        }    #T_b675d19c_4c14_11ea_b15e_acde48001122row3_col3 {\n",
       "            background-color:  #fff7fb;\n",
       "            color:  #000000;\n",
       "        }    #T_b675d19c_4c14_11ea_b15e_acde48001122row3_col4 {\n",
       "            background-color:  #fef6fb;\n",
       "            color:  #000000;\n",
       "        }    #T_b675d19c_4c14_11ea_b15e_acde48001122row3_col5 {\n",
       "            background-color:  #fdf5fa;\n",
       "            color:  #000000;\n",
       "        }    #T_b675d19c_4c14_11ea_b15e_acde48001122row4_col1 {\n",
       "            background-color:  #3f93c2;\n",
       "            color:  #000000;\n",
       "        }    #T_b675d19c_4c14_11ea_b15e_acde48001122row4_col2 {\n",
       "            background-color:  #fff7fb;\n",
       "            color:  #000000;\n",
       "        }    #T_b675d19c_4c14_11ea_b15e_acde48001122row4_col3 {\n",
       "            background-color:  #fff7fb;\n",
       "            color:  #000000;\n",
       "        }    #T_b675d19c_4c14_11ea_b15e_acde48001122row4_col4 {\n",
       "            background-color:  #fef6fb;\n",
       "            color:  #000000;\n",
       "        }    #T_b675d19c_4c14_11ea_b15e_acde48001122row4_col5 {\n",
       "            background-color:  #fdf5fa;\n",
       "            color:  #000000;\n",
       "        }    #T_b675d19c_4c14_11ea_b15e_acde48001122row5_col1 {\n",
       "            background-color:  #e4e1ef;\n",
       "            color:  #000000;\n",
       "        }    #T_b675d19c_4c14_11ea_b15e_acde48001122row5_col2 {\n",
       "            background-color:  #fff7fb;\n",
       "            color:  #000000;\n",
       "        }    #T_b675d19c_4c14_11ea_b15e_acde48001122row5_col3 {\n",
       "            background-color:  #fff7fb;\n",
       "            color:  #000000;\n",
       "        }    #T_b675d19c_4c14_11ea_b15e_acde48001122row5_col4 {\n",
       "            background-color:  #056dac;\n",
       "            color:  #f1f1f1;\n",
       "        }    #T_b675d19c_4c14_11ea_b15e_acde48001122row5_col5 {\n",
       "            background-color:  #045b8e;\n",
       "            color:  #f1f1f1;\n",
       "        }    #T_b675d19c_4c14_11ea_b15e_acde48001122row6_col1 {\n",
       "            background-color:  #b7c5df;\n",
       "            color:  #000000;\n",
       "        }    #T_b675d19c_4c14_11ea_b15e_acde48001122row6_col2 {\n",
       "            background-color:  #023858;\n",
       "            color:  #f1f1f1;\n",
       "        }    #T_b675d19c_4c14_11ea_b15e_acde48001122row6_col3 {\n",
       "            background-color:  #023858;\n",
       "            color:  #f1f1f1;\n",
       "        }    #T_b675d19c_4c14_11ea_b15e_acde48001122row6_col4 {\n",
       "            background-color:  #e4e1ef;\n",
       "            color:  #000000;\n",
       "        }    #T_b675d19c_4c14_11ea_b15e_acde48001122row6_col5 {\n",
       "            background-color:  #e0deed;\n",
       "            color:  #000000;\n",
       "        }    #T_b675d19c_4c14_11ea_b15e_acde48001122row7_col1 {\n",
       "            background-color:  #d9d8ea;\n",
       "            color:  #000000;\n",
       "        }    #T_b675d19c_4c14_11ea_b15e_acde48001122row7_col2 {\n",
       "            background-color:  #fff7fb;\n",
       "            color:  #000000;\n",
       "        }    #T_b675d19c_4c14_11ea_b15e_acde48001122row7_col3 {\n",
       "            background-color:  #fff7fb;\n",
       "            color:  #000000;\n",
       "        }    #T_b675d19c_4c14_11ea_b15e_acde48001122row7_col4 {\n",
       "            background-color:  #fff7fb;\n",
       "            color:  #000000;\n",
       "        }    #T_b675d19c_4c14_11ea_b15e_acde48001122row7_col5 {\n",
       "            background-color:  #fff7fb;\n",
       "            color:  #000000;\n",
       "        }</style><table id=\"T_b675d19c_4c14_11ea_b15e_acde48001122\" ><thead>    <tr>        <th class=\"blank level0\" ></th>        <th class=\"col_heading level0 col0\" >features</th>        <th class=\"col_heading level0 col1\" >overlap</th>        <th class=\"col_heading level0 col2\" >train_nans</th>        <th class=\"col_heading level0 col3\" >test_nans</th>        <th class=\"col_heading level0 col4\" >train_nunique</th>        <th class=\"col_heading level0 col5\" >test_nunique</th>    </tr></thead><tbody>\n",
       "                <tr>\n",
       "                        <th id=\"T_b675d19c_4c14_11ea_b15e_acde48001122level0_row0\" class=\"row_heading level0 row0\" >0</th>\n",
       "                        <td id=\"T_b675d19c_4c14_11ea_b15e_acde48001122row0_col0\" class=\"data row0 col0\" >Pclass</td>\n",
       "                        <td id=\"T_b675d19c_4c14_11ea_b15e_acde48001122row0_col1\" class=\"data row0 col1\" >1</td>\n",
       "                        <td id=\"T_b675d19c_4c14_11ea_b15e_acde48001122row0_col2\" class=\"data row0 col2\" >0</td>\n",
       "                        <td id=\"T_b675d19c_4c14_11ea_b15e_acde48001122row0_col3\" class=\"data row0 col3\" >0</td>\n",
       "                        <td id=\"T_b675d19c_4c14_11ea_b15e_acde48001122row0_col4\" class=\"data row0 col4\" >3</td>\n",
       "                        <td id=\"T_b675d19c_4c14_11ea_b15e_acde48001122row0_col5\" class=\"data row0 col5\" >3</td>\n",
       "            </tr>\n",
       "            <tr>\n",
       "                        <th id=\"T_b675d19c_4c14_11ea_b15e_acde48001122level0_row1\" class=\"row_heading level0 row1\" >1</th>\n",
       "                        <td id=\"T_b675d19c_4c14_11ea_b15e_acde48001122row1_col0\" class=\"data row1 col0\" >Name</td>\n",
       "                        <td id=\"T_b675d19c_4c14_11ea_b15e_acde48001122row1_col1\" class=\"data row1 col1\" >0.681714</td>\n",
       "                        <td id=\"T_b675d19c_4c14_11ea_b15e_acde48001122row1_col2\" class=\"data row1 col2\" >0</td>\n",
       "                        <td id=\"T_b675d19c_4c14_11ea_b15e_acde48001122row1_col3\" class=\"data row1 col3\" >0</td>\n",
       "                        <td id=\"T_b675d19c_4c14_11ea_b15e_acde48001122row1_col4\" class=\"data row1 col4\" >891</td>\n",
       "                        <td id=\"T_b675d19c_4c14_11ea_b15e_acde48001122row1_col5\" class=\"data row1 col5\" >418</td>\n",
       "            </tr>\n",
       "            <tr>\n",
       "                        <th id=\"T_b675d19c_4c14_11ea_b15e_acde48001122level0_row2\" class=\"row_heading level0 row2\" >2</th>\n",
       "                        <td id=\"T_b675d19c_4c14_11ea_b15e_acde48001122row2_col0\" class=\"data row2 col0\" >Sex</td>\n",
       "                        <td id=\"T_b675d19c_4c14_11ea_b15e_acde48001122row2_col1\" class=\"data row2 col1\" >1</td>\n",
       "                        <td id=\"T_b675d19c_4c14_11ea_b15e_acde48001122row2_col2\" class=\"data row2 col2\" >0</td>\n",
       "                        <td id=\"T_b675d19c_4c14_11ea_b15e_acde48001122row2_col3\" class=\"data row2 col3\" >0</td>\n",
       "                        <td id=\"T_b675d19c_4c14_11ea_b15e_acde48001122row2_col4\" class=\"data row2 col4\" >2</td>\n",
       "                        <td id=\"T_b675d19c_4c14_11ea_b15e_acde48001122row2_col5\" class=\"data row2 col5\" >2</td>\n",
       "            </tr>\n",
       "            <tr>\n",
       "                        <th id=\"T_b675d19c_4c14_11ea_b15e_acde48001122level0_row3\" class=\"row_heading level0 row3\" >3</th>\n",
       "                        <td id=\"T_b675d19c_4c14_11ea_b15e_acde48001122row3_col0\" class=\"data row3 col0\" >SibSp</td>\n",
       "                        <td id=\"T_b675d19c_4c14_11ea_b15e_acde48001122row3_col1\" class=\"data row3 col1\" >1</td>\n",
       "                        <td id=\"T_b675d19c_4c14_11ea_b15e_acde48001122row3_col2\" class=\"data row3 col2\" >0</td>\n",
       "                        <td id=\"T_b675d19c_4c14_11ea_b15e_acde48001122row3_col3\" class=\"data row3 col3\" >0</td>\n",
       "                        <td id=\"T_b675d19c_4c14_11ea_b15e_acde48001122row3_col4\" class=\"data row3 col4\" >7</td>\n",
       "                        <td id=\"T_b675d19c_4c14_11ea_b15e_acde48001122row3_col5\" class=\"data row3 col5\" >7</td>\n",
       "            </tr>\n",
       "            <tr>\n",
       "                        <th id=\"T_b675d19c_4c14_11ea_b15e_acde48001122level0_row4\" class=\"row_heading level0 row4\" >4</th>\n",
       "                        <td id=\"T_b675d19c_4c14_11ea_b15e_acde48001122row4_col0\" class=\"data row4 col0\" >Parch</td>\n",
       "                        <td id=\"T_b675d19c_4c14_11ea_b15e_acde48001122row4_col1\" class=\"data row4 col1\" >0.875</td>\n",
       "                        <td id=\"T_b675d19c_4c14_11ea_b15e_acde48001122row4_col2\" class=\"data row4 col2\" >0</td>\n",
       "                        <td id=\"T_b675d19c_4c14_11ea_b15e_acde48001122row4_col3\" class=\"data row4 col3\" >0</td>\n",
       "                        <td id=\"T_b675d19c_4c14_11ea_b15e_acde48001122row4_col4\" class=\"data row4 col4\" >7</td>\n",
       "                        <td id=\"T_b675d19c_4c14_11ea_b15e_acde48001122row4_col5\" class=\"data row4 col5\" >8</td>\n",
       "            </tr>\n",
       "            <tr>\n",
       "                        <th id=\"T_b675d19c_4c14_11ea_b15e_acde48001122level0_row5\" class=\"row_heading level0 row5\" >5</th>\n",
       "                        <td id=\"T_b675d19c_4c14_11ea_b15e_acde48001122row5_col0\" class=\"data row5 col0\" >Ticket</td>\n",
       "                        <td id=\"T_b675d19c_4c14_11ea_b15e_acde48001122row5_col1\" class=\"data row5 col1\" >0.733046</td>\n",
       "                        <td id=\"T_b675d19c_4c14_11ea_b15e_acde48001122row5_col2\" class=\"data row5 col2\" >0</td>\n",
       "                        <td id=\"T_b675d19c_4c14_11ea_b15e_acde48001122row5_col3\" class=\"data row5 col3\" >0</td>\n",
       "                        <td id=\"T_b675d19c_4c14_11ea_b15e_acde48001122row5_col4\" class=\"data row5 col4\" >681</td>\n",
       "                        <td id=\"T_b675d19c_4c14_11ea_b15e_acde48001122row5_col5\" class=\"data row5 col5\" >363</td>\n",
       "            </tr>\n",
       "            <tr>\n",
       "                        <th id=\"T_b675d19c_4c14_11ea_b15e_acde48001122level0_row6\" class=\"row_heading level0 row6\" >6</th>\n",
       "                        <td id=\"T_b675d19c_4c14_11ea_b15e_acde48001122row6_col0\" class=\"data row6 col0\" >Cabin</td>\n",
       "                        <td id=\"T_b675d19c_4c14_11ea_b15e_acde48001122row6_col1\" class=\"data row6 col1\" >0.786096</td>\n",
       "                        <td id=\"T_b675d19c_4c14_11ea_b15e_acde48001122row6_col2\" class=\"data row6 col2\" >687</td>\n",
       "                        <td id=\"T_b675d19c_4c14_11ea_b15e_acde48001122row6_col3\" class=\"data row6 col3\" >327</td>\n",
       "                        <td id=\"T_b675d19c_4c14_11ea_b15e_acde48001122row6_col4\" class=\"data row6 col4\" >147</td>\n",
       "                        <td id=\"T_b675d19c_4c14_11ea_b15e_acde48001122row6_col5\" class=\"data row6 col5\" >76</td>\n",
       "            </tr>\n",
       "            <tr>\n",
       "                        <th id=\"T_b675d19c_4c14_11ea_b15e_acde48001122level0_row7\" class=\"row_heading level0 row7\" >7</th>\n",
       "                        <td id=\"T_b675d19c_4c14_11ea_b15e_acde48001122row7_col0\" class=\"data row7 col0\" >Embarked</td>\n",
       "                        <td id=\"T_b675d19c_4c14_11ea_b15e_acde48001122row7_col1\" class=\"data row7 col1\" >0.75</td>\n",
       "                        <td id=\"T_b675d19c_4c14_11ea_b15e_acde48001122row7_col2\" class=\"data row7 col2\" >2</td>\n",
       "                        <td id=\"T_b675d19c_4c14_11ea_b15e_acde48001122row7_col3\" class=\"data row7 col3\" >0</td>\n",
       "                        <td id=\"T_b675d19c_4c14_11ea_b15e_acde48001122row7_col4\" class=\"data row7 col4\" >3</td>\n",
       "                        <td id=\"T_b675d19c_4c14_11ea_b15e_acde48001122row7_col5\" class=\"data row7 col5\" >3</td>\n",
       "            </tr>\n",
       "    </tbody></table>"
      ],
      "text/plain": [
       "<pandas.io.formats.style.Styler at 0x1c2b2ba810>"
      ]
     },
     "execution_count": 19,
     "metadata": {},
     "output_type": "execute_result"
    }
   ],
   "source": [
    "chkc.style.background_gradient()"
   ]
  },
  {
   "cell_type": "code",
   "execution_count": 20,
   "metadata": {},
   "outputs": [
    {
     "name": "stdout",
     "output_type": "stream",
     "text": [
      "3\n"
     ]
    },
    {
     "data": {
      "text/plain": [
       "['Pclass', 'Sex', 'SibSp']"
      ]
     },
     "execution_count": 20,
     "metadata": {},
     "output_type": "execute_result"
    }
   ],
   "source": [
    "# remove categorical features which have different values between train and test\n",
    "cat_features = [c for c in cat_features if chkc.loc[chkc[\"features\"] == c, \"overlap\"].iloc[0] == 1]\n",
    "print(len(cat_features))\n",
    "cat_features"
   ]
  },
  {
   "cell_type": "code",
   "execution_count": 21,
   "metadata": {},
   "outputs": [
    {
     "data": {
      "image/png": "[encoded data removed]",
      "text/plain": [
       "<Figure size 1296x288 with 6 Axes>"
      ]
     },
     "metadata": {
      "needs_background": "light"
     },
     "output_type": "display_data"
    }
   ],
   "source": [
    "vc = CategoricalVisualizer(train=train, test=test, features=cat_features, target=target)\n",
    "vc.plot_bars()"
   ]
  },
  {
   "cell_type": "code",
   "execution_count": 22,
   "metadata": {},
   "outputs": [
    {
     "data": {
      "image/png": "[encoded data removed]",
      "text/plain": [
       "<Figure size 1296x288 with 3 Axes>"
      ]
     },
     "metadata": {},
     "output_type": "display_data"
    }
   ],
   "source": [
    "vc.plot_venn()"
   ]
  },
  {
   "cell_type": "markdown",
   "metadata": {},
   "source": [
    "# Fit LGB and Get Feature importance"
   ]
  },
  {
   "cell_type": "code",
   "execution_count": 23,
   "metadata": {},
   "outputs": [],
   "source": [
    "# label encoding object features\n",
    "train, test = label_encoding(train, test, features)"
   ]
  },
  {
   "cell_type": "code",
   "execution_count": 24,
   "metadata": {},
   "outputs": [
    {
     "data": {
      "text/plain": [
       "0"
      ]
     },
     "execution_count": 24,
     "metadata": {},
     "output_type": "execute_result"
    }
   ],
   "source": [
    "train[target].isna().sum()"
   ]
  },
  {
   "cell_type": "code",
   "execution_count": 25,
   "metadata": {},
   "outputs": [
    {
     "data": {
      "text/plain": [
       "False"
      ]
     },
     "execution_count": 25,
     "metadata": {},
     "output_type": "execute_result"
    }
   ],
   "source": [
    "target in features"
   ]
  },
  {
   "cell_type": "code",
   "execution_count": 26,
   "metadata": {},
   "outputs": [
    {
     "name": "stdout",
     "output_type": "stream",
     "text": [
      "Training until validation scores don't improve for 100 rounds\n",
      "[100]\ttraining's auc: 0.962731\tvalid_1's auc: 0.81948\n",
      "Early stopping, best iteration is:\n",
      "[14]\ttraining's auc: 0.90282\tvalid_1's auc: 0.837767\n",
      "Partial score of fold 0 is: 0.8377672322883711\n",
      "Training until validation scores don't improve for 100 rounds\n",
      "[100]\ttraining's auc: 0.953288\tvalid_1's auc: 0.877672\n",
      "Early stopping, best iteration is:\n",
      "[14]\ttraining's auc: 0.878607\tvalid_1's auc: 0.896894\n",
      "Partial score of fold 1 is: 0.8968938740293357\n",
      "Training until validation scores don't improve for 100 rounds\n",
      "[100]\ttraining's auc: 0.954858\tvalid_1's auc: 0.848265\n",
      "Early stopping, best iteration is:\n",
      "[6]\ttraining's auc: 0.88545\tvalid_1's auc: 0.855047\n",
      "Partial score of fold 2 is: 0.8550474547023296\n",
      "Our oof loss score is:  0.8616596896004431\n"
     ]
    }
   ],
   "source": [
    "# fit LGB\n",
    "features = dense_features + cat_features\n",
    "lgbcls = LgbClassifier(train, test, target, features, categoricals=cat_features, cv_method=\"StratifiedKFold\")"
   ]
  },
  {
   "cell_type": "code",
   "execution_count": 27,
   "metadata": {},
   "outputs": [
    {
     "data": {
      "image/png": "[encoded data removed]",
      "text/plain": [
       "<Figure size 720x1440 with 1 Axes>"
      ]
     },
     "metadata": {
      "needs_background": "light"
     },
     "output_type": "display_data"
    }
   ],
   "source": [
    "# plot feature importance\n",
    "lgbcls.plot_feature_importance(rank_range=[1,100])"
   ]
  }
 ],
 "metadata": {
  "kernelspec": {
   "display_name": "Python 3",
   "language": "python",
   "name": "python3"
  },
  "language_info": {
   "codemirror_mode": {
    "name": "ipython",
    "version": 3
   },
   "file_extension": ".py",
   "mimetype": "text/x-python",
   "name": "python",
   "nbconvert_exporter": "python",
   "pygments_lexer": "ipython3",
   "version": "3.7.4"
  },
  "toc": {
   "base_numbering": 1,
   "nav_menu": {},
   "number_sections": true,
   "sideBar": true,
   "skip_h1_title": false,
   "title_cell": "Table of Contents",
   "title_sidebar": "Contents",
   "toc_cell": false,
   "toc_position": {
    "height": "calc(100% - 180px)",
    "left": "10px",
    "top": "150px",
    "width": "286.390625px"
   },
   "toc_section_display": true,
   "toc_window_display": true
  }
 },
 "nbformat": 4,
 "nbformat_minor": 2
}
